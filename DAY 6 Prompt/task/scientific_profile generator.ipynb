{
 "cells": [
  {
   "cell_type": "code",
   "execution_count": 1,
   "id": "e7ac4d2f",
   "metadata": {},
   "outputs": [],
   "source": [
    "from langchain_groq import ChatGroq\n",
    "from langchain.output_parsers import StructuredOutputParser, ResponseSchema\n",
    "from langchain.prompts import PromptTemplate\n",
    "import os\n",
    "from dotenv import load_dotenv\n"
   ]
  },
  {
   "cell_type": "code",
   "execution_count": 2,
   "id": "5331610d",
   "metadata": {},
   "outputs": [],
   "source": [
    "\n",
    "load_dotenv()\n",
    "\n",
    "llm = ChatGroq(\n",
    "    model=\"llama-3.3-70b-versatile\",\n",
    "    temperature=0.7\n",
    ")\n"
   ]
  },
  {
   "cell_type": "code",
   "execution_count": 3,
   "id": "0ed6b760",
   "metadata": {},
   "outputs": [],
   "source": [
    "\n",
    "response_schemas = [\n",
    "    ResponseSchema(name=\"name\", description=\"Full name of the scientist\", type=\"string\"),\n",
    "    ResponseSchema(name=\"field\", description=\"Primary field of research or study\", type=\"string\"),\n",
    "    ResponseSchema(name=\"notable_works\", description=\"List of notable scientific works or contributions\", type=\"list\"),\n",
    "    ResponseSchema(name=\"impact\", description=\"Brief summary of the scientist’s impact on the field\", type=\"string\")\n",
    "]\n"
   ]
  },
  {
   "cell_type": "code",
   "execution_count": 4,
   "id": "9c1acdb2",
   "metadata": {},
   "outputs": [],
   "source": [
    "\n",
    "output_parser = StructuredOutputParser.from_response_schemas(response_schemas)\n",
    "format_instructions = output_parser.get_format_instructions()\n"
   ]
  },
  {
   "cell_type": "code",
   "execution_count": 5,
   "id": "20bd869d",
   "metadata": {},
   "outputs": [],
   "source": [
    "\n",
    "prompt = PromptTemplate(\n",
    "    template=\"\"\"\n",
    "You are a scientific profile generator. Given the name of a scientist, return their professional profile in structured JSON format.\n",
    "\n",
    "{format_instructions}\n",
    "\n",
    "Examples:\n",
    "- Input: Albert Einstein\n",
    "  Output: {{\n",
    "    \"name\": \"Albert Einstein\",\n",
    "    \"field\": \"Theoretical Physics\",\n",
    "    \"notable_works\": [\"Theory of Relativity\", \"Photoelectric Effect\", \"E=mc^2\"],\n",
    "    \"impact\": \"Transformed theoretical physics and introduced concepts that shaped modern science.\"\n",
    "  }}\n",
    "\n",
    "- Input: Marie Curie\n",
    "  Output: {{\n",
    "    \"name\": \"Marie Curie\",\n",
    "    \"field\": \"Chemistry and Physics\",\n",
    "    \"notable_works\": [\"Discovery of Radium\", \"Discovery of Polonium\", \"Research on radioactivity\"],\n",
    "    \"impact\": \"Pioneered radioactivity research, won two Nobel Prizes, and advanced medical and nuclear science.\"\n",
    "  }}\n",
    "\n",
    "Scientist: {scientist}\n",
    "\"\"\",\n",
    "    input_variables=[\"scientist\"],\n",
    "    partial_variables={\"format_instructions\": format_instructions}\n",
    ")\n",
    "\n",
    "chain = prompt | llm | output_parser\n"
   ]
  },
  {
   "cell_type": "code",
   "execution_count": 6,
   "id": "fc56bfd1",
   "metadata": {},
   "outputs": [
    {
     "name": "stdout",
     "output_type": "stream",
     "text": [
      "Output: {'name': 'Isaac Newton', 'field': 'Physics, Mathematics, and Astronomy', 'notable_works': ['Laws of Motion', 'Universal Gravitation', 'Calculus'], 'impact': 'Laid the foundations for classical mechanics, optic research, and mathematical advancements, profoundly influencing the scientific revolution.'}\n"
     ]
    }
   ],
   "source": [
    "\n",
    "input_name = \"Isaac Newton\"\n",
    "\n",
    "if not isinstance(input_name, str) or not input_name.strip():\n",
    "    print({\"name\": \"error\", \"field\": \"\", \"notable_works\": [], \"impact\": \"No name provided.\"})\n",
    "else:\n",
    "    response = chain.invoke({\"scientist\": input_name})\n",
    "    print(\"Output:\", response)\n"
   ]
  },
  {
   "cell_type": "code",
   "execution_count": 7,
   "id": "843dc806",
   "metadata": {},
   "outputs": [
    {
     "name": "stderr",
     "output_type": "stream",
     "text": [
      "C:\\Users\\moham\\AppData\\Local\\Packages\\PythonSoftwareFoundation.Python.3.13_qbz5n2kfra8p0\\LocalCache\\local-packages\\Python313\\site-packages\\tqdm\\auto.py:21: TqdmWarning: IProgress not found. Please update jupyter and ipywidgets. See https://ipywidgets.readthedocs.io/en/stable/user_install.html\n",
      "  from .autonotebook import tqdm as notebook_tqdm\n"
     ]
    },
    {
     "name": "stdout",
     "output_type": "stream",
     "text": [
      "* Running on local URL:  http://127.0.0.1:7860\n",
      "* To create a public link, set `share=True` in `launch()`.\n"
     ]
    },
    {
     "data": {
      "text/html": [
       "<div><iframe src=\"http://127.0.0.1:7860/\" width=\"100%\" height=\"500\" allow=\"autoplay; camera; microphone; clipboard-read; clipboard-write;\" frameborder=\"0\" allowfullscreen></iframe></div>"
      ],
      "text/plain": [
       "<IPython.core.display.HTML object>"
      ]
     },
     "metadata": {},
     "output_type": "display_data"
    },
    {
     "data": {
      "text/plain": []
     },
     "execution_count": 7,
     "metadata": {},
     "output_type": "execute_result"
    }
   ],
   "source": [
    "from langchain_groq import ChatGroq\n",
    "from langchain.output_parsers import StructuredOutputParser, ResponseSchema\n",
    "from langchain.prompts import PromptTemplate\n",
    "import os\n",
    "from dotenv import load_dotenv\n",
    "import gradio as gr\n",
    "\n",
    "load_dotenv()\n",
    "\n",
    "llm = ChatGroq(\n",
    "    model=\"llama-3.3-70b-versatile\",\n",
    "    temperature=0.7\n",
    ")\n",
    "\n",
    "response_schemas = [\n",
    "    ResponseSchema(name=\"name\", description=\"Full name of the scientist\", type=\"string\"),\n",
    "    ResponseSchema(name=\"field\", description=\"Primary field of research or study\", type=\"string\"),\n",
    "    ResponseSchema(name=\"notable_works\", description=\"List of notable scientific works or contributions\", type=\"list\"),\n",
    "    ResponseSchema(name=\"impact\", description=\"Brief summary of the scientist’s impact on the field\", type=\"string\")\n",
    "]\n",
    "\n",
    "output_parser = StructuredOutputParser.from_response_schemas(response_schemas)\n",
    "format_instructions = output_parser.get_format_instructions()\n",
    "\n",
    "prompt = PromptTemplate(\n",
    "    template=\"\"\"\n",
    "You are a scientific profile generator. Given the name of a scientist, return their professional profile in structured JSON format.\n",
    "\n",
    "{format_instructions}\n",
    "\n",
    "Examples:\n",
    "- Input: Albert Einstein\n",
    "  Output: {{\n",
    "    \"name\": \"Albert Einstein\",\n",
    "    \"field\": \"Theoretical Physics\",\n",
    "    \"notable_works\": [\"Theory of Relativity\", \"Photoelectric Effect\", \"E=mc^2\"],\n",
    "    \"impact\": \"Transformed theoretical physics and introduced concepts that shaped modern science.\"\n",
    "  }}\n",
    "\n",
    "- Input: Marie Curie\n",
    "  Output: {{\n",
    "    \"name\": \"Marie Curie\",\n",
    "    \"field\": \"Chemistry and Physics\",\n",
    "    \"notable_works\": [\"Discovery of Radium\", \"Discovery of Polonium\", \"Research on radioactivity\"],\n",
    "    \"impact\": \"Pioneered radioactivity research, won two Nobel Prizes, and advanced medical and nuclear science.\"\n",
    "  }}\n",
    "\n",
    "Scientist: {scientist}\n",
    "\"\"\",\n",
    "    input_variables=[\"scientist\"],\n",
    "    partial_variables={\"format_instructions\": format_instructions}\n",
    ")\n",
    "\n",
    "chain = prompt | llm | output_parser\n",
    "\n",
    "def generate_profile(scientist_name):\n",
    "    if not isinstance(scientist_name, str) or not scientist_name.strip():\n",
    "        return {\"name\": \"error\", \"field\": \"\", \"notable_works\": [], \"impact\": \"No name provided.\"}\n",
    "    result = chain.invoke({\"scientist\": scientist_name})\n",
    "    return result\n",
    "\n",
    "gr.Interface(\n",
    "    fn=generate_profile,\n",
    "    inputs=gr.Textbox(label=\"Enter Scientist Name\"),\n",
    "    outputs=gr.JSON(label=\"Generated Scientific Profile\"),\n",
    "    title=\"Scientific Profile Generator\",\n",
    "    description=\"Enter the name of a scientist to generate a structured profile using LLaMA 3 and LangChain via Groq.\"\n",
    ").launch()\n"
   ]
  },
  {
   "cell_type": "code",
   "execution_count": null,
   "id": "bd49cb88",
   "metadata": {},
   "outputs": [],
   "source": []
  },
  {
   "cell_type": "code",
   "execution_count": null,
   "id": "b6927fcd",
   "metadata": {},
   "outputs": [],
   "source": []
  }
 ],
 "metadata": {
  "kernelspec": {
   "display_name": "Python 3",
   "language": "python",
   "name": "python3"
  },
  "language_info": {
   "codemirror_mode": {
    "name": "ipython",
    "version": 3
   },
   "file_extension": ".py",
   "mimetype": "text/x-python",
   "name": "python",
   "nbconvert_exporter": "python",
   "pygments_lexer": "ipython3",
   "version": "3.13.5"
  }
 },
 "nbformat": 4,
 "nbformat_minor": 5
}
