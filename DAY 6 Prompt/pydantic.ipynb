{
 "cells": [
  {
   "cell_type": "code",
   "execution_count": null,
   "id": "46ea113e",
   "metadata": {},
   "outputs": [],
   "source": [
    "from pydantic import BaseModel\n",
    "class Person(BaseModel): # automatic type checking\n",
    "    name: str\n",
    "    age: int"
   ]
  },
  {
   "cell_type": "code",
   "execution_count": 2,
   "id": "e6904318",
   "metadata": {},
   "outputs": [
    {
     "name": "stdout",
     "output_type": "stream",
     "text": [
      "Alice\n",
      "30\n"
     ]
    }
   ],
   "source": [
    "p = Person(name=\"Alice\", age=30)\n",
    "print(p.name)\n",
    "print(p.age)"
   ]
  },
  {
   "cell_type": "code",
   "execution_count": null,
   "id": "e8141a50",
   "metadata": {},
   "outputs": [
    {
     "name": "stdout",
     "output_type": "stream",
     "text": [
      "30\n"
     ]
    }
   ],
   "source": [
    "p = Person(name=\"Bob\", age=\"30\")\n",
    "print(p.age)\n"
   ]
  },
  {
   "cell_type": "code",
   "execution_count": null,
   "id": "51439d89",
   "metadata": {},
   "outputs": [],
   "source": []
  }
 ],
 "metadata": {
  "kernelspec": {
   "display_name": "Python 3",
   "language": "python",
   "name": "python3"
  },
  "language_info": {
   "codemirror_mode": {
    "name": "ipython",
    "version": 3
   },
   "file_extension": ".py",
   "mimetype": "text/x-python",
   "name": "python",
   "nbconvert_exporter": "python",
   "pygments_lexer": "ipython3",
   "version": "3.13.5"
  }
 },
 "nbformat": 4,
 "nbformat_minor": 5
}
