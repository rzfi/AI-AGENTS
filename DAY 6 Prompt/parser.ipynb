{
 "cells": [
  {
   "cell_type": "code",
   "execution_count": 1,
   "id": "fad1b50c",
   "metadata": {},
   "outputs": [
    {
     "name": "stdout",
     "output_type": "stream",
     "text": [
      "Raw input: 'The new phone is incredible!'\n",
      "Stripped input: 'The new phone is incredible!'\n",
      "Is input empty? False\n",
      "Output: {'sentiment': 'positive', 'confidence': 0.95}\n"
     ]
    }
   ],
   "source": [
    "from langchain_groq import ChatGroq\n",
    "from langchain.output_parsers import StructuredOutputParser, ResponseSchema\n",
    "from langchain.prompts import PromptTemplate\n",
    "import os\n",
    "from dotenv import load_dotenv\n",
    "\n",
    "load_dotenv()\n",
    "\n",
    "\n",
    "llm = ChatGroq(\n",
    "    model=\"llama-3.3-70b-versatile\",\n",
    "    temperature=0.5\n",
    ")\n",
    "\n",
    "response_schemas = [\n",
    "    ResponseSchema(name=\"sentiment\", description=\"Sentiment: positive, negative, or neutral\", type=\"string\"),\n",
    "    ResponseSchema(name=\"confidence\", description=\"Confidence score between 0.0 and 1.0\", type=\"float\")\n",
    "]\n",
    "\n",
    "output_parser = StructuredOutputParser.from_response_schemas(response_schemas)\n",
    "\n",
    "format_instructions = output_parser.get_format_instructions()\n",
    "\n",
    "prompt = PromptTemplate(\n",
    "    template=\"\"\"You are a sentiment analysis assistant. Classify the sentiment of the input text as 'positive', 'negative', or 'neutral' and provide a confidence score between 0.0 and 1.0. If no text is provided, return: {{\"sentiment\": \"error\", \"confidence\": 0.0}} with the message: 'No text provided.' Format the response as JSON according to these instructions: {format_instructions}\n",
    "\n",
    "Examples:\n",
    "- Text: 'This movie is fantastic!' → {{\"sentiment\": \"positive\", \"confidence\": 0.9}}\n",
    "- Text: 'I hated the service.' → {{\"sentiment\": \"negative\", \"confidence\": 0.85}}\n",
    "- Text: 'The weather is okay.' → {{\"sentiment\": \"neutral\", \"confidence\": 0.7}}\n",
    "\n",
    "Input text: {text}\n",
    "\"\"\",\n",
    "    input_variables=[\"text\"],\n",
    "    partial_variables={\"format_instructions\": format_instructions}\n",
    ")\n",
    "\n",
    "chain = prompt | llm | output_parser\n",
    "\n",
    "input_text = \"The new phone is incredible!\"\n",
    "\n",
    "print(f\"Raw input: '{input_text}'\")\n",
    "print(f\"Stripped input: '{input_text.strip()}'\")\n",
    "print(f\"Is input empty? {not input_text.strip()}\")\n",
    "\n",
    "if not isinstance(input_text, str) or not input_text.strip():\n",
    "    print(\"No text provided.\")\n",
    "    print({\"sentiment\": \"error\", \"confidence\": 0.0})\n",
    "else:\n",
    "    response = chain.invoke({\"text\": input_text})\n",
    "    print(\"Output:\", response)"
   ]
  },
  {
   "cell_type": "code",
   "execution_count": null,
   "id": "4fdb03cd",
   "metadata": {},
   "outputs": [],
   "source": []
  }
 ],
 "metadata": {
  "kernelspec": {
   "display_name": "Python 3",
   "language": "python",
   "name": "python3"
  },
  "language_info": {
   "codemirror_mode": {
    "name": "ipython",
    "version": 3
   },
   "file_extension": ".py",
   "mimetype": "text/x-python",
   "name": "python",
   "nbconvert_exporter": "python",
   "pygments_lexer": "ipython3",
   "version": "3.13.5"
  }
 },
 "nbformat": 4,
 "nbformat_minor": 5
}
