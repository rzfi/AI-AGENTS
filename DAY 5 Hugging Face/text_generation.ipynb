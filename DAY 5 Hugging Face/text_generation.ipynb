{
  "nbformat": 4,
  "nbformat_minor": 0,
  "metadata": {
    "colab": {
      "provenance": []
    },
    "kernelspec": {
      "name": "python3",
      "display_name": "Python 3"
    },
    "language_info": {
      "name": "python"
    }
  },
  "cells": [
    {
      "cell_type": "code",
      "execution_count": null,
      "metadata": {
        "colab": {
          "base_uri": "https://localhost:8080/"
        },
        "id": "rYanRlc_QOBW",
        "outputId": "ff2e7d45-9356-49bf-cfac-8f7881fe975b"
      },
      "outputs": [
        {
          "output_type": "stream",
          "name": "stdout",
          "text": [
            "Requirement already satisfied: transformers in /usr/local/lib/python3.11/dist-packages (4.53.0)\n",
            "Requirement already satisfied: filelock in /usr/local/lib/python3.11/dist-packages (from transformers) (3.18.0)\n",
            "Requirement already satisfied: huggingface-hub<1.0,>=0.30.0 in /usr/local/lib/python3.11/dist-packages (from transformers) (0.33.1)\n",
            "Requirement already satisfied: numpy>=1.17 in /usr/local/lib/python3.11/dist-packages (from transformers) (2.0.2)\n",
            "Requirement already satisfied: packaging>=20.0 in /usr/local/lib/python3.11/dist-packages (from transformers) (24.2)\n",
            "Requirement already satisfied: pyyaml>=5.1 in /usr/local/lib/python3.11/dist-packages (from transformers) (6.0.2)\n",
            "Requirement already satisfied: regex!=2019.12.17 in /usr/local/lib/python3.11/dist-packages (from transformers) (2024.11.6)\n",
            "Requirement already satisfied: requests in /usr/local/lib/python3.11/dist-packages (from transformers) (2.32.3)\n",
            "Requirement already satisfied: tokenizers<0.22,>=0.21 in /usr/local/lib/python3.11/dist-packages (from transformers) (0.21.2)\n",
            "Requirement already satisfied: safetensors>=0.4.3 in /usr/local/lib/python3.11/dist-packages (from transformers) (0.5.3)\n",
            "Requirement already satisfied: tqdm>=4.27 in /usr/local/lib/python3.11/dist-packages (from transformers) (4.67.1)\n",
            "Requirement already satisfied: fsspec>=2023.5.0 in /usr/local/lib/python3.11/dist-packages (from huggingface-hub<1.0,>=0.30.0->transformers) (2025.3.2)\n",
            "Requirement already satisfied: typing-extensions>=3.7.4.3 in /usr/local/lib/python3.11/dist-packages (from huggingface-hub<1.0,>=0.30.0->transformers) (4.14.0)\n",
            "Requirement already satisfied: hf-xet<2.0.0,>=1.1.2 in /usr/local/lib/python3.11/dist-packages (from huggingface-hub<1.0,>=0.30.0->transformers) (1.1.5)\n",
            "Requirement already satisfied: charset-normalizer<4,>=2 in /usr/local/lib/python3.11/dist-packages (from requests->transformers) (3.4.2)\n",
            "Requirement already satisfied: idna<4,>=2.5 in /usr/local/lib/python3.11/dist-packages (from requests->transformers) (3.10)\n",
            "Requirement already satisfied: urllib3<3,>=1.21.1 in /usr/local/lib/python3.11/dist-packages (from requests->transformers) (2.4.0)\n",
            "Requirement already satisfied: certifi>=2017.4.17 in /usr/local/lib/python3.11/dist-packages (from requests->transformers) (2025.6.15)\n"
          ]
        }
      ],
      "source": [
        "  !pip install transformers"
      ]
    },
    {
      "cell_type": "code",
      "source": [
        "from transformers import pipeline\n",
        "generator = pipeline('text-generation', model='distilgpt2')\n",
        "res1 = generator(\"In this course we will teach you how to\", max_length = 30, num_return_sequences=2,)\n",
        "print(res1)"
      ],
      "metadata": {
        "colab": {
          "base_uri": "https://localhost:8080/"
        },
        "id": "DiONqm5PQSHZ",
        "outputId": "15270cc7-3c84-4213-824c-1c39189449e5"
      },
      "execution_count": null,
      "outputs": [
        {
          "output_type": "stream",
          "name": "stderr",
          "text": [
            "Device set to use cpu\n",
            "Truncation was not explicitly activated but `max_length` is provided a specific value, please use `truncation=True` to explicitly truncate examples to max length. Defaulting to 'longest_first' truncation strategy. If you encode pairs of sequences (GLUE-style) with the tokenizer you can select this strategy more precisely by providing a specific strategy to `truncation`.\n",
            "Setting `pad_token_id` to `eos_token_id`:50256 for open-end generation.\n",
            "Both `max_new_tokens` (=256) and `max_length`(=30) seem to have been set. `max_new_tokens` will take precedence. Please refer to the documentation for more information. (https://huggingface.co/docs/transformers/main/en/main_classes/text_generation)\n"
          ]
        },
        {
          "output_type": "stream",
          "name": "stdout",
          "text": [
            "[{'generated_text': 'In this course we will teach you how to write a blog post about a popular library, with questions and questions about the library and the library. You will also learn how to apply the same techniques to your own projects.\\n\\n\\n\\nThe Introduction\\nThe Introduction\\nThe Introduction\\nThe Introduction\\nHow to write a blog post with a simple understanding of the library and how to use it.\\nThe Introduction\\nThe Introduction\\nThe Introduction\\nThe Introduction\\nThe Introduction\\nThe Introduction\\nThe Introduction\\nThe Introduction\\nThe Introduction\\nThe Introduction\\nThe Introduction\\nThe Introduction\\nThe Introduction\\nThe Introduction\\nThe Introduction\\nThe Introduction\\nThe Introduction\\nThe Introduction\\nThe Introduction\\nThe Introduction\\nThe Introduction\\nThe Introduction\\nThe Introduction\\nThe Introduction\\nThe Introduction\\nThe Introduction\\nThe Introduction\\nThe Introduction\\nThe Introduction\\nThe Introduction\\nThe Introduction\\nThe Introduction\\nThe Introduction\\nThe Introduction\\nThe Introduction\\nThe Introduction\\nThe Introduction\\nThe Introduction\\nThe Introduction\\nThe Introduction\\nThe Introduction\\nThe Introduction\\nThe Introduction\\nThe Introduction\\nThe Introduction\\nThe Introduction\\nThe Introduction\\nThe Introduction\\nThe Introduction\\nThe Introduction\\nThe Introduction\\nThe Introduction\\nThe Introduction\\nThe Introduction\\nThe Introduction\\nThe Introduction\\nThe Introduction\\nThe Introduction\\nThe Introduction\\nThe Introduction\\nThe Introduction\\nThe Introduction'}, {'generated_text': 'In this course we will teach you how to deal with your social media habits and social media habits.\\n\\n\\n\\n\\nWhat is your experience with social media?\\nHow do you interact with your friends and strangers?\\nWhat are your experiences with social media?\\nHow do you interact with your friends and strangers?\\nWhat is your experience with social media?\\nHow do you interact with your friends and strangers?\\nTo learn more about Facebook and Twitter, check out the Facebook Group.'}]\n"
          ]
        }
      ]
    },
    {
      "cell_type": "code",
      "source": [
        "classifier = pipeline(\"zero-shot-classification\")"
      ],
      "metadata": {
        "colab": {
          "base_uri": "https://localhost:8080/"
        },
        "id": "ecxMbPA3Q_GV",
        "outputId": "6e102f75-0e7c-43bb-cfcb-fb8f047e275a"
      },
      "execution_count": null,
      "outputs": [
        {
          "output_type": "stream",
          "name": "stderr",
          "text": [
            "No model was supplied, defaulted to facebook/bart-large-mnli and revision d7645e1 (https://huggingface.co/facebook/bart-large-mnli).\n",
            "Using a pipeline without specifying a model name and revision in production is not recommended.\n",
            "Device set to use cpu\n"
          ]
        }
      ]
    },
    {
      "cell_type": "code",
      "source": [
        "res = classifier(\"This is a course about Life\", candidate_labels=[\"education\", \"fun\", \"business\"])\n",
        "print(res)"
      ],
      "metadata": {
        "colab": {
          "base_uri": "https://localhost:8080/"
        },
        "id": "7oRquMytXb_K",
        "outputId": "fd5cb6b7-4374-4d5d-8972-e4063933bd97"
      },
      "execution_count": null,
      "outputs": [
        {
          "output_type": "stream",
          "name": "stdout",
          "text": [
            "{'sequence': 'This is a course about Life', 'labels': ['fun', 'education', 'business'], 'scores': [0.6166120767593384, 0.32768338918685913, 0.055704519152641296]}\n"
          ]
        }
      ]
    },
    {
      "cell_type": "code",
      "source": [],
      "metadata": {
        "id": "loKlUk8HZV--"
      },
      "execution_count": null,
      "outputs": []
    },
    {
      "cell_type": "code",
      "source": [],
      "metadata": {
        "id": "OaYDd1lbmT8P"
      },
      "execution_count": null,
      "outputs": []
    },
    {
      "cell_type": "code",
      "source": [],
      "metadata": {
        "id": "af0pW60qmXQJ"
      },
      "execution_count": null,
      "outputs": []
    }
  ]
}