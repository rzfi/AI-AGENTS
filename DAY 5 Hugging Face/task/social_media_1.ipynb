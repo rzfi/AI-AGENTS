{
 "cells": [
  {
   "cell_type": "code",
   "execution_count": 7,
   "id": "5188b8bf",
   "metadata": {},
   "outputs": [],
   "source": [
    "from langchain.prompts import PromptTemplate\n",
    "from langchain.chains import LLMChain\n",
    "from langchain_groq import ChatGroq\n",
    "from dotenv import load_dotenv\n",
    "\n",
    "load_dotenv()\n",
    "\n",
    "llm = ChatGroq(\n",
    "    temperature=0.3,\n",
    "    model_name=\"llama3-8b-8192\"\n",
    ")\n",
    "\n"
   ]
  },
  {
   "cell_type": "code",
   "execution_count": 8,
   "id": "23aa520b",
   "metadata": {},
   "outputs": [],
   "source": [
    "\n",
    "sentiment_prompt = PromptTemplate(\n",
    "    input_variables=[\"post1\", \"post2\"],\n",
    "    template=\"\"\"\n",
    "You are a sentiment analysis expert.\n",
    "\n",
    "Analyze the sentiment of the following two social media posts.\n",
    "Classify each as Positive, Negative, or Neutral.\n",
    "Also briefly explain the emotional tone of each post.\n",
    "\n",
    "Post 1: {post1}\n",
    "Post 2: {post2}\n",
    "\"\"\"\n",
    ")\n"
   ]
  },
  {
   "cell_type": "code",
   "execution_count": 9,
   "id": "11905e11",
   "metadata": {},
   "outputs": [],
   "source": [
    "\n",
    "insight_prompt = PromptTemplate(\n",
    "    input_variables=[\"post1\", \"post2\", \"sentiment_summary\"],\n",
    "    template=\"\"\"\n",
    "You are a social media strategist.\n",
    "\n",
    "Compare the two posts given below using the sentiment summary provided.\n",
    "Analyze which post has a better tone, engagement potential, and emotional appeal.\n",
    "Give a conclusion on which post would perform better on social media.\n",
    "\n",
    "Post 1: {post1}\n",
    "Post 2: {post2}\n",
    "\n",
    "Sentiment Summary: {sentiment_summary}\n",
    "\"\"\"\n",
    ")\n"
   ]
  },
  {
   "cell_type": "code",
   "execution_count": 10,
   "id": "532b124e",
   "metadata": {},
   "outputs": [],
   "source": [
    "\n",
    "sentiment_chain = LLMChain(llm=llm, prompt=sentiment_prompt)\n",
    "\n",
    "insight_chain = LLMChain(llm=llm, prompt=insight_prompt)\n"
   ]
  },
  {
   "cell_type": "code",
   "execution_count": null,
   "id": "f9998aec",
   "metadata": {},
   "outputs": [],
   "source": [
    "\n",
    "def analyze_social_media_posts(post1: str, post2: str):\n",
    "    sentiment_summary = sentiment_chain.run({\n",
    "        \"post1\": post1,\n",
    "        \"post2\": post2\n",
    "    })\n",
    "    print(\"🧠 Sentiment Analysis:\\n\")\n",
    "    print(sentiment_summary)\n",
    "\n",
    "    insights = insight_chain.run({\n",
    "        \"post1\": post1,\n",
    "        \"post2\": post2,\n",
    "        \"sentiment_summary\": sentiment_summary\n",
    "    })\n",
    "    print(\"\\n📊 Strategic Insight:\\n\")\n",
    "    print(insights)\n",
    "\n",
    "\n"
   ]
  },
  {
   "cell_type": "code",
   "execution_count": 12,
   "id": "ea0cfe6d",
   "metadata": {},
   "outputs": [
    {
     "name": "stdout",
     "output_type": "stream",
     "text": [
      "🧠 Sentiment Analysis:\n",
      "\n",
      "Sentiment Analysis:\n",
      "\n",
      "Post 1: Positive\n",
      "\n",
      "Emotional tone: Confident and triumphant. The use of the phrase \"Feeling amazing and proud of myself\" conveys a strong sense of accomplishment and self-satisfaction. The hashtags #fitness and #goals also suggest a sense of achievement and motivation.\n",
      "\n",
      "Post 2: Negative\n",
      "\n",
      "Emotional tone: Disappointed and regretful. The use of the word \"Ugh\" and the phrase \"Not a good day\" convey a sense of frustration and disappointment. The feeling of guilt and laziness also suggests a negative emotional tone. The 😞 emoji further reinforces the negative sentiment.\n",
      "\n",
      "📊 Strategic Insight:\n",
      "\n",
      "Based on the sentiment summary, here's my analysis:\n",
      "\n",
      "**Tone:** Post 1 has a confident and triumphant tone, while Post 2 has a disappointed and regretful tone. A positive tone is generally more engaging and appealing than a negative one.\n",
      "\n",
      "**Engagement Potential:** Post 1 is likely to spark engagement and inspire others to share their own fitness achievements, as it's a motivational and uplifting message. Post 2, on the other hand, may elicit sympathy or commiseration, but it's unlikely to inspire engagement or encourage others to share their own experiences.\n",
      "\n",
      "**Emotional Appeal:** Post 1 has a strong emotional appeal, as it conveys a sense of accomplishment and pride. This can resonate with followers and make them feel good. Post 2, while relatable, has a negative emotional tone that may not be as appealing or inspiring.\n",
      "\n",
      "**Conclusion:** Based on the analysis, I conclude that Post 1 would perform better on social media. The positive tone, motivational message, and sense of accomplishment are likely to resonate with followers and inspire engagement. Additionally, the hashtags #fitness and #goals can help increase the post's visibility and reach a wider audience. Post 2, while relatable, may not be as engaging or appealing, and may even have a negative impact on followers' mood.\n"
     ]
    }
   ],
   "source": [
    "post1 = \"Just finished a 10K run! 🏃‍♂️ Feeling amazing and proud of myself. #fitness #goals\"\n",
    "post2 = \"Ugh, missed my workout today. Feeling guilty and lazy. Not a good day. 😞\"\n",
    "\n",
    "analyze_social_media_posts(post1, post2)\n"
   ]
  },
  {
   "cell_type": "code",
   "execution_count": null,
   "id": "8f947204",
   "metadata": {},
   "outputs": [],
   "source": []
  }
 ],
 "metadata": {
  "kernelspec": {
   "display_name": "Python 3",
   "language": "python",
   "name": "python3"
  },
  "language_info": {
   "codemirror_mode": {
    "name": "ipython",
    "version": 3
   },
   "file_extension": ".py",
   "mimetype": "text/x-python",
   "name": "python",
   "nbconvert_exporter": "python",
   "pygments_lexer": "ipython3",
   "version": "3.13.5"
  }
 },
 "nbformat": 4,
 "nbformat_minor": 5
}
