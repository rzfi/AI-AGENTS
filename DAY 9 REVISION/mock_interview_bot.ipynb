{
  "cells": [
    {
      "cell_type": "code",
      "execution_count": 1,
      "metadata": {
        "colab": {
          "base_uri": "https://localhost:8080/"
        },
        "id": "B2mzhPBaCChR",
        "outputId": "038ccbd1-e22f-4715-e175-f8ca9ccce987"
      },
      "outputs": [
        {
          "name": "stdout",
          "output_type": "stream",
          "text": [
            "\u001b[?25l   \u001b[90m━━━━━━━━━━━━━━━━━━━━━━━━━━━━━━━━━━━━━━━━\u001b[0m \u001b[32m0.0/131.1 kB\u001b[0m \u001b[31m?\u001b[0m eta \u001b[36m-:--:--\u001b[0m\r\u001b[2K   \u001b[90m━━━━━━━━━━━━━━━━━━━━━━━━━━━━━━━━━━━━━━━━\u001b[0m \u001b[32m131.1/131.1 kB\u001b[0m \u001b[31m5.0 MB/s\u001b[0m eta \u001b[36m0:00:00\u001b[0m\n",
            "\u001b[?25h"
          ]
        }
      ],
      "source": [
        "!pip install -qU langchain langchain-groq python-dotenv\n"
      ]
    },
    {
      "cell_type": "code",
      "execution_count": null,
      "metadata": {
        "colab": {
          "base_uri": "https://localhost:8080/"
        },
        "id": "OP3YA5SmCDDT",
        "outputId": "d591e67c-0b17-4f15-e2b6-b90bf404f16d"
      },
      "outputs": [
        {
          "name": "stdout",
          "output_type": "stream",
          "text": [
            "🔐 Enter your Groq API Key: ··········\n"
          ]
        }
      ],
      "source": [
        "import os\n",
        "from getpass import getpass\n",
        "from langchain_groq import ChatGroq\n",
        "from langchain.prompts import PromptTemplate, FewShotPromptTemplate\n",
        "\n",
        "os.environ[\"GROQ_API_KEY\"] = getpass(\"🔐 Enter your Groq API Key: \")\n",
        "\n",
        "llm = ChatGroq(\n",
        "    temperature=0.4,\n",
        "    model_name=\"llama3-70b-8192\"\n",
        ")\n"
      ]
    },
    {
      "cell_type": "code",
      "execution_count": 3,
      "metadata": {
        "id": "By4J3UokCEpi"
      },
      "outputs": [],
      "source": [
        "examples = [\n",
        "    {\n",
        "        \"question\": \"Tell me about yourself.\",\n",
        "        \"answer\": \"I am a recent Computer Science graduate with a passion for solving problems using software...\",\n",
        "        \"feedback\": \"\"\"\\\n",
        "Score: 8/10\n",
        "Strengths: Clear communication, good structure, relevant skills.\n",
        "Weaknesses: Slightly generic, could include more personal achievements.\n",
        "Suggestions: Add a compelling project or internship to stand out.\"\"\"\n",
        "    },\n",
        "    {\n",
        "        \"question\": \"What are your strengths?\",\n",
        "        \"answer\": \"I'm a fast learner, adaptable, and good at teamwork.\",\n",
        "        \"feedback\": \"\"\"\\\n",
        "Score: 7/10\n",
        "Strengths: Good qualities mentioned concisely.\n",
        "Weaknesses: Lacks specific examples or evidence.\n",
        "Suggestions: Support each strength with a real-life scenario.\"\"\"\n",
        "    },\n",
        "]\n",
        "\n",
        "example_template = \"\"\"Interview Question: {question}\n",
        "Candidate Answer: {answer}\n",
        "Structured Feedback:\n",
        "{feedback}\n",
        "\"\"\"\n",
        "example_prompt = PromptTemplate.from_template(example_template)\n",
        "\n",
        "prompt = FewShotPromptTemplate(\n",
        "    examples=examples,\n",
        "    example_prompt=example_prompt,\n",
        "    prefix=\"\"\"You are an experienced interview coach. After each question and answer, you must give structured feedback in the following format:\n",
        "\n",
        "Score: /10\n",
        "Strengths: ...\n",
        "Weaknesses: ...\n",
        "Suggestions: ...\n",
        "\n",
        "Here are some examples:\"\"\",\n",
        "    suffix=\"\"\"Interview Question: {question}\n",
        "Candidate Answer: {answer}\n",
        "Structured Feedback:\"\"\",\n",
        "    input_variables=[\"question\", \"answer\"]\n",
        ")\n"
      ]
    },
    {
      "cell_type": "code",
      "execution_count": 4,
      "metadata": {
        "colab": {
          "base_uri": "https://localhost:8080/"
        },
        "id": "OX6OF2prCF-v",
        "outputId": "f3341eb6-3f5b-4aa9-f992-dab71138d852"
      },
      "outputs": [
        {
          "name": "stdout",
          "output_type": "stream",
          "text": [
            "\n",
            "💬 Interview Bot - Type 'exit' anytime to quit\n",
            "🧠 Interviewer asks: Tell me about yourself\n",
            "🎙️ Your answer: I am joyboy, I am from one piece\n",
            "\n",
            "📝 Interview Coach Feedback:\n",
            "Score: 2/10\n",
            "Strengths: Unique and memorable introduction.\n",
            "Weaknesses: Completely irrelevant to the job or industry, lacks any meaningful information about skills or experience.\n",
            "Suggestions: While it's great to show personality, this answer needs to be more focused on your professional background and qualifications. Try to connect your passions or hobbies to relevant skills or experiences that align with the job description. For example, you could talk about a project or achievement that showcases your skills, or mention a relevant course or training you've completed.\n",
            "\n",
            "💬 Interview Bot - Type 'exit' anytime to quit\n",
            "🧠 Interviewer asks: exit\n"
          ]
        }
      ],
      "source": [
        "while True:\n",
        "    print(\"\\n💬 Interview Bot - Type 'exit' anytime to quit\")\n",
        "\n",
        "    user_question = input(\"🧠 Interviewer asks: \")\n",
        "    if user_question.lower() == \"exit\":\n",
        "        break\n",
        "\n",
        "    user_answer = input(\"🎙️ Your answer: \")\n",
        "    if user_answer.lower() == \"exit\":\n",
        "        break\n",
        "\n",
        "    final_prompt = prompt.format(question=user_question, answer=user_answer)\n",
        "\n",
        "    response = llm.invoke(final_prompt)\n",
        "\n",
        "    print(\"\\n📝 Interview Coach Feedback:\\n\" + response.content)\n"
      ]
    },
    {
      "cell_type": "code",
      "execution_count": null,
      "metadata": {
        "id": "ld7xtPhuCH7m"
      },
      "outputs": [],
      "source": []
    }
  ],
  "metadata": {
    "colab": {
      "provenance": []
    },
    "kernelspec": {
      "display_name": "Python 3",
      "name": "python3"
    },
    "language_info": {
      "name": "python"
    }
  },
  "nbformat": 4,
  "nbformat_minor": 0
}
