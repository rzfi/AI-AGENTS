{
  "cells": [
    {
      "cell_type": "code",
      "execution_count": 30,
      "metadata": {
        "id": "27iT0mIE7SfP"
      },
      "outputs": [],
      "source": [
        "# Install dependencies\n",
        "!pip install -q langchain langchain-groq python-dotenv\n"
      ]
    },
    {
      "cell_type": "code",
      "execution_count": null,
      "metadata": {
        "id": "GdWf9BEj_2LI"
      },
      "outputs": [],
      "source": [
        "from langchain.prompts import PromptTemplate, FewShotPromptTemplate\n",
        "from langchain_groq import ChatGroq\n",
        "from getpass import getpass\n",
        "from dotenv import load_dotenv\n"
      ]
    },
    {
      "cell_type": "code",
      "execution_count": null,
      "metadata": {
        "id": "95WbhfA0-3wi"
      },
      "outputs": [],
      "source": [
        "import os\n",
        "load_dotenv()\n",
        "groq_api_key = os.getenv(\"GROQ_API_KEY\")\n"
      ]
    },
    {
      "cell_type": "code",
      "execution_count": 3,
      "metadata": {
        "id": "RKRAhhQw_8pT"
      },
      "outputs": [],
      "source": [
        "examples = [\n",
        "    {\n",
        "        \"question\": \"What are the symptoms of diabetes?\",\n",
        "        \"answer\": \"Common symptoms of diabetes include increased thirst, frequent urination, extreme fatigue, and blurred vision.\"\n",
        "    },\n",
        "    {\n",
        "        \"question\": \"How can I lower my blood pressure naturally?\",\n",
        "        \"answer\": \"You can lower your blood pressure through regular exercise, reducing salt intake, eating more fruits and vegetables, and managing stress.\"\n",
        "    },\n",
        "    {\n",
        "        \"question\": \"What should I do if I have a fever?\",\n",
        "        \"answer\": \"Stay hydrated, rest, and monitor your temperature. If it persists beyond a few days or is very high, consult a doctor.\"\n",
        "    },\n",
        "    {\n",
        "        \"question\": \"Is it safe to take paracetamol and ibuprofen together?\",\n",
        "        \"answer\": \"Yes, in most cases it is safe, but it’s best to alternate them and not exceed the recommended doses. Always consult a doctor if unsure.\"\n",
        "    }\n",
        "]\n"
      ]
    },
    {
      "cell_type": "code",
      "execution_count": 4,
      "metadata": {
        "id": "InHi26rq__T-"
      },
      "outputs": [],
      "source": [
        "example_prompt = PromptTemplate(\n",
        "    input_variables=[\"question\", \"answer\"],\n",
        "    template=\"Q: {question}\\nA: {answer}\"\n",
        ")"
      ]
    },
    {
      "cell_type": "code",
      "execution_count": 5,
      "metadata": {
        "id": "qG_OcLNKABRg"
      },
      "outputs": [],
      "source": [
        "few_shot_prompt = FewShotPromptTemplate(\n",
        "    examples=examples,\n",
        "    example_prompt=example_prompt,\n",
        "    prefix=\"You are a helpful and professional medical assistant. Answer the following questions clearly and responsibly.\\n\\n\",\n",
        "    suffix=\"Q: {user_question}\\nA:\",\n",
        "    input_variables=[\"user_question\"]\n",
        ")\n"
      ]
    },
    {
      "cell_type": "code",
      "execution_count": 6,
      "metadata": {
        "id": "OQ4OZmBYANcd"
      },
      "outputs": [],
      "source": [
        "llm = ChatGroq(temperature=0.3, model_name=\"llama3-70b-8192\")\n"
      ]
    },
    {
      "cell_type": "code",
      "execution_count": 7,
      "metadata": {
        "colab": {
          "base_uri": "https://localhost:8080/"
        },
        "id": "HBrwiffUAN1s",
        "outputId": "9d69d3cb-2bbe-4ad6-c5bd-04335c37de2e"
      },
      "outputs": [
        {
          "name": "stdout",
          "output_type": "stream",
          "text": [
            "\n",
            "🩺 Answer: Hello! Welcome to our medical assistance service. How can I help you today? Do you have any health concerns or questions you'd like to discuss?\n",
            "👋 Goodbye!\n"
          ]
        }
      ],
      "source": [
        "while True:\n",
        "    user_input = input(\"\\n💬 Ask a medical question (or type 'exit'): \").strip()\n",
        "    if user_input.lower() == \"exit\":\n",
        "        print(\"👋 Goodbye!\")\n",
        "        break\n",
        "    final_prompt = few_shot_prompt.format(user_question=user_input)\n",
        "\n",
        "    response = llm.invoke(final_prompt)\n",
        "\n",
        "    print(f\"\\n🩺 Answer: {response.content}\")\n"
      ]
    },
    {
      "cell_type": "code",
      "execution_count": null,
      "metadata": {
        "id": "QcCcvmgdAPvW"
      },
      "outputs": [],
      "source": []
    }
  ],
  "metadata": {
    "colab": {
      "provenance": []
    },
    "kernelspec": {
      "display_name": "Python 3",
      "name": "python3"
    },
    "language_info": {
      "codemirror_mode": {
        "name": "ipython",
        "version": 3
      },
      "file_extension": ".py",
      "mimetype": "text/x-python",
      "name": "python",
      "nbconvert_exporter": "python",
      "pygments_lexer": "ipython3",
      "version": "3.13.5"
    }
  },
  "nbformat": 4,
  "nbformat_minor": 0
}
