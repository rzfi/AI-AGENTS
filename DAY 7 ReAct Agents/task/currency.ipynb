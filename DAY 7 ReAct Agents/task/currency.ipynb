{
 "cells": [
  {
   "cell_type": "code",
   "execution_count": 2,
   "id": "9c0196d8",
   "metadata": {},
   "outputs": [],
   "source": [
    "from langchain_groq import ChatGroq\n",
    "from langchain.agents import initialize_agent, AgentType, Tool\n",
    "from langchain_experimental.tools.python.tool import PythonREPLTool\n",
    "import os\n",
    "import yfinance as yf\n",
    "from forex_python.converter import CurrencyRates\n"
   ]
  },
  {
   "cell_type": "code",
   "execution_count": 3,
   "id": "970ff948",
   "metadata": {},
   "outputs": [],
   "source": [
    "\n",
    "from dotenv import load_dotenv\n",
    "\n",
    "load_dotenv()\n",
    "groq_api_key = os.getenv(\"GROQ_API_KEY\")\n",
    "llm = ChatGroq(api_key=os.environ[\"GROQ_API_KEY\"], model_name=\"llama3-70b-8192\")\n"
   ]
  },
  {
   "cell_type": "code",
   "execution_count": 4,
   "id": "87b91572",
   "metadata": {},
   "outputs": [],
   "source": [
    "\n",
    "def currency_converter(query: str) -> str:\n",
    "    try:\n",
    "        c = CurrencyRates()\n",
    "        parts = query.lower().split()\n",
    "        amount = float(parts[0])\n",
    "        from_currency = parts[1].upper()\n",
    "        to_currency = parts[-1].upper()\n",
    "        result = c.convert(from_currency, to_currency, amount)\n",
    "        return f\"{amount} {from_currency} = {result:.2f} {to_currency}\"\n",
    "    except Exception as e:\n",
    "        return f\"[Currency Converter] Error: {e}\"\n",
    "\n",
    "def stock_analyzer(ticker: str) -> str:\n",
    "    try:\n",
    "        stock = yf.Ticker(ticker)\n",
    "        hist = stock.history(period=\"5d\")\n",
    "        if hist.empty:\n",
    "            return \"[Stock Analyzer] No data found.\"\n",
    "        last_price = hist['Close'][-1]\n",
    "        return f\"The latest closing price of {ticker.upper()} is ${last_price:.2f}\"\n",
    "    except Exception as e:\n",
    "        return f\"[Stock Analyzer] Error: {e}\"\n",
    "\n"
   ]
  },
  {
   "cell_type": "code",
   "execution_count": 5,
   "id": "8c91de2b",
   "metadata": {},
   "outputs": [],
   "source": [
    "\n",
    "tools = [\n",
    "    Tool(name=\"Python REPL\", func=PythonREPLTool().run, description=\"Useful for doing math or logic in Python\"),\n",
    "    Tool(name=\"Currency Converter\", func=currency_converter, description=\"Converts currency like '100 USD to INR'\"),\n",
    "    Tool(name=\"Stock Analyzer\", func=stock_analyzer, description=\"Analyzes stock price. Example input: 'AAPL' or 'TSLA'\")\n",
    "]\n"
   ]
  },
  {
   "cell_type": "code",
   "execution_count": 6,
   "id": "8b725677",
   "metadata": {},
   "outputs": [
    {
     "name": "stderr",
     "output_type": "stream",
     "text": [
      "C:\\Users\\moham\\AppData\\Local\\Temp\\ipykernel_4932\\3776416932.py:1: LangChainDeprecationWarning: LangChain agents will continue to be supported, but it is recommended for new use cases to be built with LangGraph. LangGraph offers a more flexible and full-featured framework for building agents, including support for tool-calling, persistence of state, and human-in-the-loop workflows. For details, refer to the `LangGraph documentation <https://langchain-ai.github.io/langgraph/>`_ as well as guides for `Migrating from AgentExecutor <https://python.langchain.com/docs/how_to/migrate_agent/>`_ and LangGraph's `Pre-built ReAct agent <https://langchain-ai.github.io/langgraph/how-tos/create-react-agent/>`_.\n",
      "  agent = initialize_agent(\n"
     ]
    }
   ],
   "source": [
    "\n",
    "agent = initialize_agent(\n",
    "    tools=tools,\n",
    "    llm=llm,\n",
    "    agent=AgentType.ZERO_SHOT_REACT_DESCRIPTION,\n",
    "    verbose=True\n",
    ")\n"
   ]
  },
  {
   "cell_type": "code",
   "execution_count": 7,
   "id": "c6067508",
   "metadata": {},
   "outputs": [
    {
     "name": "stderr",
     "output_type": "stream",
     "text": [
      "C:\\Users\\moham\\AppData\\Local\\Temp\\ipykernel_4932\\1715144060.py:2: LangChainDeprecationWarning: The method `Chain.run` was deprecated in langchain 0.1.0 and will be removed in 1.0. Use :meth:`~invoke` instead.\n",
      "  result = agent.run(query)\n"
     ]
    },
    {
     "name": "stdout",
     "output_type": "stream",
     "text": [
      "\n",
      "\n",
      "\u001b[1m> Entering new AgentExecutor chain...\u001b[0m\n"
     ]
    },
    {
     "name": "stderr",
     "output_type": "stream",
     "text": [
      "Python REPL can execute arbitrary code. Use with caution.\n"
     ]
    },
    {
     "name": "stdout",
     "output_type": "stream",
     "text": [
      "\u001b[32;1m\u001b[1;3mI need to find the radius of the Earth's surface.\n",
      "\n",
      "Action: Python REPL\n",
      "Action Input: `import math; print(math.pi * 6371)` (assuming the Earth is a perfect sphere with a circumference of 40,075 km)\u001b[0m\n",
      "Observation: \u001b[36;1m\u001b[1;3mSyntaxError('leading zeros in decimal integer literals are not permitted; use an 0o prefix for octal integers', ('<string>', 1, 104, 'import math; print(math.pi * 6371)` (assuming the Earth is a perfect sphere with a circumference of 40,075 km)', 1, 105))\u001b[0m\n",
      "Thought:\u001b[32;1m\u001b[1;3mIt looks like I made a mistake in my Python code.\n",
      "\n",
      "Action: Python REPL\n",
      "Action Input: `import math; print(math.pi * 6371)`\u001b[0m\n",
      "Observation: \u001b[36;1m\u001b[1;3m20015.086796020572\n",
      "\u001b[0m\n",
      "Thought:\u001b[32;1m\u001b[1;3mI now know the final answer\n",
      "\n",
      "Final Answer: The radius of the Earth's surface is approximately 20015.09 kilometers, or 6371 kilometers (since circumference = 2 * pi * radius).\u001b[0m\n",
      "\n",
      "\u001b[1m> Finished chain.\u001b[0m\n"
     ]
    }
   ],
   "source": [
    "\n",
    "query = \"what is the radius of the Earth surface\"\n",
    "result = agent.run(query)\n"
   ]
  },
  {
   "cell_type": "code",
   "execution_count": 8,
   "id": "fd5b7151",
   "metadata": {},
   "outputs": [
    {
     "name": "stdout",
     "output_type": "stream",
     "text": [
      "\n",
      "🧠 Final Answer:\n",
      " The radius of the Earth's surface is approximately 20015.09 kilometers, or 6371 kilometers (since circumference = 2 * pi * radius).\n"
     ]
    }
   ],
   "source": [
    "\n",
    "print(\"\\n🧠 Final Answer:\\n\", result)"
   ]
  },
  {
   "cell_type": "code",
   "execution_count": null,
   "id": "48a70bb4",
   "metadata": {},
   "outputs": [],
   "source": []
  }
 ],
 "metadata": {
  "kernelspec": {
   "display_name": "Python 3",
   "language": "python",
   "name": "python3"
  },
  "language_info": {
   "codemirror_mode": {
    "name": "ipython",
    "version": 3
   },
   "file_extension": ".py",
   "mimetype": "text/x-python",
   "name": "python",
   "nbconvert_exporter": "python",
   "pygments_lexer": "ipython3",
   "version": "3.13.5"
  }
 },
 "nbformat": 4,
 "nbformat_minor": 5
}
