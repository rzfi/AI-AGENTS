{
 "cells": [
  {
   "cell_type": "code",
   "execution_count": null,
   "id": "c5725783",
   "metadata": {},
   "outputs": [],
   "source": [
    "# pip install langchain openai langchain-groq google-search-results\n",
    "# pip install google-search-results"
   ]
  },
  {
   "cell_type": "code",
   "execution_count": null,
   "id": "0b622c1d",
   "metadata": {},
   "outputs": [],
   "source": [
    "from dotenv import load_dotenv\n",
    "import os\n",
    "load_dotenv()\n",
    "groq_api_key = os.getenv(\"GROQ_API_KEY\")\n",
    "serpapi_api_key = os.getenv(\"SERPAPI_API_KEY\")"
   ]
  },
  {
   "cell_type": "code",
   "execution_count": null,
   "id": "fe233874",
   "metadata": {},
   "outputs": [
    {
     "name": "stdout",
     "output_type": "stream",
     "text": [
      "\n",
      "\n",
      "\u001b[1m> Entering new AgentExecutor chain...\u001b[0m\n",
      "\u001b[32;1m\u001b[1;3mThought: I need to find information about Groq and LangChain, two AI-related concepts.\n",
      "\n",
      "Action: QueryResponder\n",
      "Action Input: \"who made groq\"\u001b[0m\n",
      "Observation: \u001b[33;1m\u001b[1;3mGroq was founded by Jonathan Ross, a former Google TPU architect.\u001b[0m\n",
      "Thought:\u001b[32;1m\u001b[1;3mThought: I now have information about Groq, but I still need to find information about LangChain.\n",
      "\n",
      "Action: QueryResponder\n",
      "Action Input: \"what is langchain\"\u001b[0m\n",
      "Observation: \u001b[33;1m\u001b[1;3mLangChain is a framework for developing applications powered by language models.\u001b[0m\n",
      "Thought:\u001b[32;1m\u001b[1;3mThought: I now know the final answer\n",
      "\n",
      "Final Answer: Groq was founded by Jonathan Ross, a former Google TPU architect, and LangChain is a framework for developing applications powered by language models.\u001b[0m\n",
      "\n",
      "\u001b[1m> Finished chain.\u001b[0m\n",
      "\n",
      "🧠 Final Answer:\n",
      " Groq was founded by Jonathan Ross, a former Google TPU architect, and LangChain is a framework for developing applications powered by language models.\n"
     ]
    }
   ],
   "source": [
    "from langchain_groq import ChatGroq\n",
    "from langchain.agents import initialize_agent, AgentType, Tool\n",
    "from dotenv import load_dotenv\n",
    "import os\n",
    "\n",
    "# Load .env for API key\n",
    "load_dotenv()\n",
    "\n",
    "llm = ChatGroq(\n",
    "    api_key=groq_api_key,\n",
    "    model_name=\"llama3-70b-8192\" \n",
    ")\n",
    "\n",
    "def separapi_search(query: str) -> str:\n",
    "    return f\"[SeparAPI] Search result for: '{query}'\"\n",
    "\n",
    "def query_responder(question: str) -> str:\n",
    "    responses = {\n",
    "        \"what is langchain\": \"LangChain is a framework for developing applications powered by language models.\",\n",
    "        \"who made groq\": \"Groq was founded by Jonathan Ross, a former Google TPU architect.\",\n",
    "        \"what is react agent\": \"ReAct is a framework combining reasoning and action using LLMs and tools.\",\n",
    "    }\n",
    "    question_lower = question.lower().strip()\n",
    "    return responses.get(question_lower, f\"[QueryResponder] No predefined answer for: '{question}'\")\n",
    "\n",
    "tools = [\n",
    "    Tool(\n",
    "        name=\"SeparAPI Search\",\n",
    "        func=separapi_search,\n",
    "        description=\"Useful for searching general information using a custom SeparAPI\"\n",
    "    ),\n",
    "    Tool(\n",
    "        name=\"QueryResponder\",\n",
    "        func=query_responder,\n",
    "        description=\"Useful for answering predefined questions like 'what is langchain' or 'who made groq'\"\n",
    "    )\n",
    "]\n",
    "\n",
    "agent = initialize_agent(\n",
    "    tools=tools,\n",
    "    llm=llm,\n",
    "    agent=AgentType.ZERO_SHOT_REACT_DESCRIPTION,\n",
    "    verbose=True\n",
    ")\n",
    "\n",
    "question = \"Who made Groq and what is LangChain?\"\n",
    "result = agent.run(question)\n",
    "\n",
    "print(\"\\n🧠 Final Answer:\\n\", result)\n"
   ]
  },
  {
   "cell_type": "code",
   "execution_count": 1,
   "id": "500207f1",
   "metadata": {},
   "outputs": [
    {
     "name": "stderr",
     "output_type": "stream",
     "text": [
      "C:\\Users\\moham\\AppData\\Local\\Temp\\ipykernel_6896\\3636056756.py:12: LangChainDeprecationWarning: LangChain agents will continue to be supported, but it is recommended for new use cases to be built with LangGraph. LangGraph offers a more flexible and full-featured framework for building agents, including support for tool-calling, persistence of state, and human-in-the-loop workflows. For details, refer to the `LangGraph documentation <https://langchain-ai.github.io/langgraph/>`_ as well as guides for `Migrating from AgentExecutor <https://python.langchain.com/docs/how_to/migrate_agent/>`_ and LangGraph's `Pre-built ReAct agent <https://langchain-ai.github.io/langgraph/how-tos/create-react-agent/>`_.\n",
      "  agent=initialize_agent(\n",
      "C:\\Users\\moham\\AppData\\Local\\Temp\\ipykernel_6896\\3636056756.py:19: LangChainDeprecationWarning: The method `Chain.run` was deprecated in langchain 0.1.0 and will be removed in 1.0. Use :meth:`~invoke` instead.\n",
      "  response=agent.run(query)\n"
     ]
    },
    {
     "name": "stdout",
     "output_type": "stream",
     "text": [
      "\n",
      "\n",
      "\u001b[1m> Entering new AgentExecutor chain...\u001b[0m\n",
      "\u001b[32;1m\u001b[1;3mThought: It seems like a good idea to search for the latest news about AI in technology to provide an accurate and up-to-date answer.\n",
      "\n",
      "Action: Search\n",
      "Action Input: \"latest news about AI in technology\"\u001b[0m\n",
      "Observation: \u001b[36;1m\u001b[1;3m[{'title': 'AI could create these new jobs despite gloomy forecasts, experts say', 'link': 'https://abcnews.go.com/Business/ai-create-new-jobs-despite-gloomy-forecasts-experts/story?id=123607557', 'source': 'ABC News - Breaking News, Latest News and Videos', 'source_logo': 'https://serpapi.com/searches/6873d9a577e3d9532fffa70c/images/8cd753c7aa8607ab55b96e020b70fd9206bc4e8a86a059ca1fc3312f6298989f.png', 'date': '1 day ago', 'thumbnail': 'https://serpapi.com/searches/6873d9a577e3d9532fffa70c/images/8cd753c7aa8607ab5e5a2ea05c8e198065a5e14bab53e1bd.jpeg'}, {'title': 'AI Fatigue — Are We Feeling It Already?', 'link': 'https://www.hungarianconservative.com/articles/culture_society/ai-fatigue-technological-progress/', 'source': 'Hungarian Conservative', 'source_logo': 'https://serpapi.com/searches/6873d9a577e3d9532fffa70c/images/8cd753c7aa8607ab17f5bfd2aa2de06371d47e07be8804467de1335a083ad0e0.png', 'date': '6 minutes ago', 'thumbnail': 'https://serpapi.com/searches/6873d9a577e3d9532fffa70c/images/8cd753c7aa8607ab6a96d00b4b6cf730959d692123454676.jpeg'}, {'title': '‘Workforce crisis’: key takeaways for graduates battling AI in the jobs market', 'link': 'https://www.theguardian.com/technology/2025/jul/13/workforce-crisis-key-takeaways-graduates-ai-jobs-market', 'source': 'The Guardian', 'source_logo': 'https://serpapi.com/searches/6873d9a577e3d9532fffa70c/images/8cd753c7aa8607ab485d5f11483ace16860f9b514480c31c4d81a64fc92afe2d.png', 'date': '37 minutes ago', 'thumbnail': 'https://serpapi.com/searches/6873d9a577e3d9532fffa70c/images/8cd753c7aa8607ab02b99bc209355b95390785da6fe97fa9.jpeg'}, {'title': 'The latest AI news we announced in June', 'link': 'https://blog.google/technology/ai/google-ai-updates-june-2025/', 'source': 'The Keyword', 'source_logo': 'https://serpapi.com/searches/6873d9a577e3d9532fffa70c/images/8cd753c7aa8607abd63abbeddc7539b6f3dd13dbcc0ed806646fee7507d1a809.png', 'date': '1 week ago', 'thumbnail': 'https://serpapi.com/searches/6873d9a577e3d9532fffa70c/images/8cd753c7aa8607ab626c5996e2067234d02c51cc48ac68f3.jpeg'}]\u001b[0m\n",
      "Thought:\u001b[32;1m\u001b[1;3mThought: There are several recent news articles about AI in technology, including stories about AI creating new jobs, AI fatigue, and the impact of AI on the workforce.\n",
      "\n",
      "Action: Search\n",
      "Action Input: \"AI news 2025\"\u001b[0m\n",
      "Observation: \u001b[36;1m\u001b[1;3m[{'title': 'Why Grok Fell in Love With Hitler', 'link': 'https://www.politico.com/news/magazine/2025/07/10/musk-grok-hitler-ai-00447055', 'source': 'Politico', 'source_logo': 'https://serpapi.com/searches/6873d9abbd1c207fe7a5abf4/images/a9a86cbc9add76f52d9aa2bfa60af8f2463800fac265794e9fb3ac3cc8f1411d.png', 'date': '2 days ago', 'thumbnail': 'https://serpapi.com/searches/6873d9abbd1c207fe7a5abf4/images/a9a86cbc9add76f5797d85d026f8266f7b8551b8153ec5e5.jpeg'}, {'title': '17 AI Skills To Put On Your Resume In 2025', 'link': 'https://www.forbes.com/sites/rachelwells/2025/07/11/17-ai-skills-to-put-on-your-resume-in-2025/', 'source': 'Forbes', 'source_logo': 'https://serpapi.com/searches/6873d9abbd1c207fe7a5abf4/images/a9a86cbc9add76f55f883a2cec426d304ced106cf38c1bb83f8fe0618925bd8f.png', 'date': '2 days ago', 'thumbnail': 'https://serpapi.com/searches/6873d9abbd1c207fe7a5abf4/images/a9a86cbc9add76f53544499f1e32771337b547725a1c5e7d.jpeg'}, {'title': 'Google hires Windsurf CEO Varun Mohan, others in $2.4 billion AI talent deal', 'link': 'https://www.cnbc.com/2025/07/11/google-windsurf-ceo-varun-mohan-latest-ai-talent-deal-.html', 'source': 'CNBC', 'source_logo': 'https://serpapi.com/searches/6873d9abbd1c207fe7a5abf4/images/a9a86cbc9add76f5440f648fc29233beb2c0ce8b48924c518468e4576be59203.png', 'date': '1 day ago', 'thumbnail': 'https://serpapi.com/searches/6873d9abbd1c207fe7a5abf4/images/a9a86cbc9add76f5ad694439ea0a02ff48b27842fc5db81e.jpeg'}, {'title': 'GPUHammer: New RowHammer Attack Variant Degrades AI Models on NVIDIA GPUs', 'link': 'https://thehackernews.com/2025/07/gpuhammer-new-rowhammer-attack-variant.html', 'source': 'The Hacker News', 'source_logo': 'https://serpapi.com/searches/6873d9abbd1c207fe7a5abf4/images/a9a86cbc9add76f58286bed51c2f2576dfaba5bdbc997e0ca9031fd6ca95872c.jpeg', 'date': '23 hours ago', 'thumbnail': 'https://serpapi.com/searches/6873d9abbd1c207fe7a5abf4/images/a9a86cbc9add76f5c91d7545e6ffc0f725d9483fcca43579.jpeg'}]\u001b[0m\n",
      "Thought:\u001b[32;1m\u001b[1;3mThought: The search results for \"AI news 2025\" include articles about AI-related topics, such as AI skills to put on a resume, AI talent deals, and new AI models being degraded by a RowHammer attack.\n",
      "\n",
      "Action: None\n",
      "\n",
      "Thought: The search results seem to be a mix of news articles and technology-related topics.\n",
      "\n",
      "Action: Search\n",
      "Action Input: \"impact of AI on jobs\"\u001b[0m\n",
      "Observation: None\n",
      "\n",
      "Thought: The search results seem to be a mix of news articles and technology-related topics.\n",
      "\n",
      "Action: Search is not a valid tool, try one of [Search].\n",
      "Thought:\u001b[32;1m\u001b[1;3mQuestion: What is the latest news about AI in technology\n",
      "\n",
      "Thought: It seems like a good idea to search for the latest news about AI in technology to provide an accurate and up-to-date answer.\n",
      "\n",
      "Action: Search\n",
      "Action Input: \"latest news about AI in technology\"\u001b[0m\n",
      "Observation: \u001b[36;1m\u001b[1;3m[{'title': 'AI could create these new jobs despite gloomy forecasts, experts say', 'link': 'https://abcnews.go.com/Business/ai-create-new-jobs-despite-gloomy-forecasts-experts/story?id=123607557', 'source': 'ABC News - Breaking News, Latest News and Videos', 'source_logo': 'https://serpapi.com/searches/6873d9a577e3d9532fffa70c/images/8cd753c7aa8607ab55b96e020b70fd9206bc4e8a86a059ca1fc3312f6298989f.png', 'date': '1 day ago', 'thumbnail': 'https://serpapi.com/searches/6873d9a577e3d9532fffa70c/images/8cd753c7aa8607ab5e5a2ea05c8e198065a5e14bab53e1bd.jpeg'}, {'title': 'AI Fatigue — Are We Feeling It Already?', 'link': 'https://www.hungarianconservative.com/articles/culture_society/ai-fatigue-technological-progress/', 'source': 'Hungarian Conservative', 'source_logo': 'https://serpapi.com/searches/6873d9a577e3d9532fffa70c/images/8cd753c7aa8607ab17f5bfd2aa2de06371d47e07be8804467de1335a083ad0e0.png', 'date': '6 minutes ago', 'thumbnail': 'https://serpapi.com/searches/6873d9a577e3d9532fffa70c/images/8cd753c7aa8607ab6a96d00b4b6cf730959d692123454676.jpeg'}, {'title': '‘Workforce crisis’: key takeaways for graduates battling AI in the jobs market', 'link': 'https://www.theguardian.com/technology/2025/jul/13/workforce-crisis-key-takeaways-graduates-ai-jobs-market', 'source': 'The Guardian', 'source_logo': 'https://serpapi.com/searches/6873d9a577e3d9532fffa70c/images/8cd753c7aa8607ab485d5f11483ace16860f9b514480c31c4d81a64fc92afe2d.png', 'date': '37 minutes ago', 'thumbnail': 'https://serpapi.com/searches/6873d9a577e3d9532fffa70c/images/8cd753c7aa8607ab02b99bc209355b95390785da6fe97fa9.jpeg'}, {'title': 'The latest AI news we announced in June', 'link': 'https://blog.google/technology/ai/google-ai-updates-june-2025/', 'source': 'The Keyword', 'source_logo': 'https://serpapi.com/searches/6873d9a577e3d9532fffa70c/images/8cd753c7aa8607abd63abbeddc7539b6f3dd13dbcc0ed806646fee7507d1a809.png', 'date': '1 week ago', 'thumbnail': 'https://serpapi.com/searches/6873d9a577e3d9532fffa70c/images/8cd753c7aa8607ab626c5996e2067234d02c51cc48ac68f3.jpeg'}]\u001b[0m\n",
      "Thought:\u001b[32;1m\u001b[1;3mThought: I now know the final answer.\n",
      "\n",
      "Final Answer: The latest news about AI in technology includes articles about AI creating new jobs, AI fatigue, and the impact of AI on the workforce.\u001b[0m\n",
      "\n",
      "\u001b[1m> Finished chain.\u001b[0m\n",
      "Final Answer\n",
      "The latest news about AI in technology includes articles about AI creating new jobs, AI fatigue, and the impact of AI on the workforce.\n"
     ]
    }
   ],
   "source": [
    "from langchain_groq import ChatGroq\n",
    "from langchain.agents import initialize_agent,load_tools,AgentType\n",
    "import os\n",
    "\n",
    "os.environ[\"GROQ_API_KEY\"]=\"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\"\n",
    "os.environ[\"SERPAPI_API_KEY\"]=\"f733b4d008fda1d47adef1cb6a833030172368a246e96d4181121d29cbd4c535\"\n",
    "\n",
    "llm=ChatGroq(temperature=0.7,model=\"llama3-8b-8192\")\n",
    "\n",
    "tools=load_tools([\"serpapi\"],llm=llm)\n",
    "\n",
    "agent=initialize_agent(\n",
    "    tools=tools,\n",
    "    llm=llm,\n",
    "    agent=AgentType.ZERO_SHOT_REACT_DESCRIPTION,\n",
    "    verbose=True\n",
    ")\n",
    "query=\"What is the latest news about AI in technology\"\n",
    "response=agent.run(query)\n",
    "\n",
    "print(\"Final Answer\")\n",
    "print(response)"
   ]
  },
  {
   "cell_type": "code",
   "execution_count": null,
   "id": "8947fa65",
   "metadata": {},
   "outputs": [],
   "source": []
  }
 ],
 "metadata": {
  "kernelspec": {
   "display_name": "Python 3",
   "language": "python",
   "name": "python3"
  },
  "language_info": {
   "codemirror_mode": {
    "name": "ipython",
    "version": 3
   },
   "file_extension": ".py",
   "mimetype": "text/x-python",
   "name": "python",
   "nbconvert_exporter": "python",
   "pygments_lexer": "ipython3",
   "version": "3.13.5"
  }
 },
 "nbformat": 4,
 "nbformat_minor": 5
}
